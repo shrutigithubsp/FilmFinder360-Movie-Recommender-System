{
 "cells": [
  {
   "cell_type": "code",
   "execution_count": 1,
   "id": "19ac10a3",
   "metadata": {},
   "outputs": [],
   "source": [
    "import numpy as np\n",
    "import pandas as pd"
   ]
  },
  {
   "cell_type": "code",
   "execution_count": 3,
   "id": "dc08906e",
   "metadata": {},
   "outputs": [],
   "source": [
    "movies = pd.read_csv('Dataset.csv')"
   ]
  },
  {
   "cell_type": "code",
   "execution_count": 4,
   "id": "a59ac6cc",
   "metadata": {},
   "outputs": [
    {
     "data": {
      "text/plain": [
       "<bound method NDFrame.head of       S no         ID Original_Language  \\\n",
       "0        1   580489.0                en   \n",
       "1        2   524434.0                en   \n",
       "2        3   438631.0                en   \n",
       "3        4   796499.0                en   \n",
       "4        5   550988.0                en   \n",
       "...    ...        ...               ...   \n",
       "7898  7899  1083862.0               jap   \n",
       "7899  7900   347201.0               jap   \n",
       "7900  7901   503314.0               jap   \n",
       "7901  7902   572154.0               jap   \n",
       "7902  7903   829557.0            polish   \n",
       "\n",
       "                                original_title Release_Date  IMDB Ratings   \\\n",
       "0                  venom: let there be carnage   30-09-2021            6.8   \n",
       "1                                     eternals   03-11-2021            7.1   \n",
       "2                                         dune   15-09-2021            8.0   \n",
       "3                              army of thieves   27-10-2021            6.9   \n",
       "4                                     free guy   11-08-2021            7.8   \n",
       "...                                        ...          ...            ...   \n",
       "7898               resident evil: death island   07-07-2023            5.7   \n",
       "7899                  boruto: naruto the movie   07-08-2015            7.8   \n",
       "7900                  dragon ball super: broly   29-03-2019            7.7   \n",
       "7901  rascal does not dream of a dreaming girl   15-06-2019            8.3   \n",
       "7902                        365 days: this day   24-07-2022            2.6   \n",
       "\n",
       "     Vote_Count                                              Genre  \\\n",
       "0          1736         ['Science Fiction', 'Action', 'Adventure']   \n",
       "1           622  ['Action', 'Adventure', 'Science Fiction', 'Fa...   \n",
       "2          3632         ['Action', 'Adventure', 'Science Fiction']   \n",
       "3           555                    ['Action', 'Crime', 'Thriller']   \n",
       "4          3493  ['Comedy', 'Action', 'Adventure', 'Science Fic...   \n",
       "...         ...                                                ...   \n",
       "7898         77                  ['animation', 'action', 'horror']   \n",
       "7899       1113     ['comedy', 'action', 'animation', 'adventure']   \n",
       "7900       1009                  ['action', 'sci-fi', 'animation']   \n",
       "7901       1643  ['comedy', 'drama', 'animation', 'romance', 'f...   \n",
       "7902       1613                   ['Erotic', 'Thriller', 'Action']   \n",
       "\n",
       "                                               Overview    Revenue(in $)  \\\n",
       "0     After finding a host body in investigative rep...  $424,000,000.00   \n",
       "1     The Eternals are a team of ancient aliens who ...  $165,000,000.00   \n",
       "2     Paul Atreides, a brilliant and gifted young ma...  $331,000,000.00   \n",
       "3     A mysterious woman recruits bank teller Ludwig...            $0.00   \n",
       "4     A bank teller called Guy realizes he is a back...  $331,000,000.00   \n",
       "...                                                 ...              ...   \n",
       "7898  In San Francisco, Jill Valentine is dealing wi...       $25,600.00   \n",
       "7899  The spirited Boruto Uzumaki, son of Seventh Ho...   $17,014,551.00   \n",
       "7900  Earth is peaceful following the Tournament of ...  $122,740,616.00   \n",
       "7901  In Fujisawa, Sakuta Azusagawa is in his second...    $3,063,945.00   \n",
       "7902  Laura and Massimo attempt to piece their lives...            $0.00   \n",
       "\n",
       "      Runtime(in min)                                            Tagline  \n",
       "0                  97                            You are what you eat.\\r  \n",
       "1                 157                                In the beginning...  \n",
       "2                 155                       Beyond fear, destiny awaits.  \n",
       "3                 127       Before Vegas, one locksmith became a legend.  \n",
       "4                 115     Life's too short to be a background character.  \n",
       "...               ...                                                ...  \n",
       "7898               91       Destinies intertwined. A world gone mad.\\r\\n  \n",
       "7899               95                           Forge your own path.\\r\\n  \n",
       "7900               99  A new adventure to become the strongest begins.\\r  \n",
       "7901               90                                                NaN  \n",
       "7902              109  A dark secret is the foundation of any success...  \n",
       "\n",
       "[7903 rows x 12 columns]>"
      ]
     },
     "execution_count": 4,
     "metadata": {},
     "output_type": "execute_result"
    }
   ],
   "source": [
    "movies.head"
   ]
  },
  {
   "cell_type": "code",
   "execution_count": 5,
   "id": "751f298a",
   "metadata": {},
   "outputs": [
    {
     "data": {
      "text/plain": [
       "(7903, 12)"
      ]
     },
     "execution_count": 5,
     "metadata": {},
     "output_type": "execute_result"
    }
   ],
   "source": [
    "movies.shape"
   ]
  },
  {
   "cell_type": "code",
   "execution_count": 6,
   "id": "0baee7ce",
   "metadata": {},
   "outputs": [
    {
     "name": "stdout",
     "output_type": "stream",
     "text": [
      "<class 'pandas.core.frame.DataFrame'>\n",
      "RangeIndex: 7903 entries, 0 to 7902\n",
      "Data columns (total 12 columns):\n",
      " #   Column             Non-Null Count  Dtype  \n",
      "---  ------             --------------  -----  \n",
      " 0   S no               7903 non-null   int64  \n",
      " 1   ID                 7901 non-null   float64\n",
      " 2   Original_Language  7903 non-null   object \n",
      " 3   original_title     7903 non-null   object \n",
      " 4   Release_Date       7903 non-null   object \n",
      " 5   IMDB Ratings       7903 non-null   float64\n",
      " 6   Vote_Count         7902 non-null   object \n",
      " 7   Genre              7903 non-null   object \n",
      " 8   Overview           7903 non-null   object \n",
      " 9   Revenue(in $)      7902 non-null   object \n",
      " 10  Runtime(in min)    7903 non-null   int64  \n",
      " 11  Tagline            6612 non-null   object \n",
      "dtypes: float64(2), int64(2), object(8)\n",
      "memory usage: 741.0+ KB\n"
     ]
    }
   ],
   "source": [
    "movies.info()"
   ]
  },
  {
   "cell_type": "code",
   "execution_count": 7,
   "id": "b0a1dcb6",
   "metadata": {},
   "outputs": [
    {
     "data": {
      "text/html": [
       "<div>\n",
       "<style scoped>\n",
       "    .dataframe tbody tr th:only-of-type {\n",
       "        vertical-align: middle;\n",
       "    }\n",
       "\n",
       "    .dataframe tbody tr th {\n",
       "        vertical-align: top;\n",
       "    }\n",
       "\n",
       "    .dataframe thead th {\n",
       "        text-align: right;\n",
       "    }\n",
       "</style>\n",
       "<table border=\"1\" class=\"dataframe\">\n",
       "  <thead>\n",
       "    <tr style=\"text-align: right;\">\n",
       "      <th></th>\n",
       "      <th>S no</th>\n",
       "      <th>ID</th>\n",
       "      <th>IMDB Ratings</th>\n",
       "      <th>Runtime(in min)</th>\n",
       "    </tr>\n",
       "  </thead>\n",
       "  <tbody>\n",
       "    <tr>\n",
       "      <th>count</th>\n",
       "      <td>7903.000000</td>\n",
       "      <td>7.901000e+03</td>\n",
       "      <td>7903.000000</td>\n",
       "      <td>7903.000000</td>\n",
       "    </tr>\n",
       "    <tr>\n",
       "      <th>mean</th>\n",
       "      <td>3952.000000</td>\n",
       "      <td>2.170532e+05</td>\n",
       "      <td>6.352853</td>\n",
       "      <td>106.215488</td>\n",
       "    </tr>\n",
       "    <tr>\n",
       "      <th>std</th>\n",
       "      <td>2281.543922</td>\n",
       "      <td>2.454592e+05</td>\n",
       "      <td>1.091909</td>\n",
       "      <td>21.728310</td>\n",
       "    </tr>\n",
       "    <tr>\n",
       "      <th>min</th>\n",
       "      <td>1.000000</td>\n",
       "      <td>5.000000e+00</td>\n",
       "      <td>0.000000</td>\n",
       "      <td>45.000000</td>\n",
       "    </tr>\n",
       "    <tr>\n",
       "      <th>25%</th>\n",
       "      <td>1976.500000</td>\n",
       "      <td>1.087800e+04</td>\n",
       "      <td>5.800000</td>\n",
       "      <td>91.000000</td>\n",
       "    </tr>\n",
       "    <tr>\n",
       "      <th>50%</th>\n",
       "      <td>3952.000000</td>\n",
       "      <td>7.567400e+04</td>\n",
       "      <td>6.400000</td>\n",
       "      <td>102.000000</td>\n",
       "    </tr>\n",
       "    <tr>\n",
       "      <th>75%</th>\n",
       "      <td>5927.500000</td>\n",
       "      <td>4.095020e+05</td>\n",
       "      <td>7.000000</td>\n",
       "      <td>117.000000</td>\n",
       "    </tr>\n",
       "    <tr>\n",
       "      <th>max</th>\n",
       "      <td>7903.000000</td>\n",
       "      <td>1.142127e+06</td>\n",
       "      <td>9.000000</td>\n",
       "      <td>400.000000</td>\n",
       "    </tr>\n",
       "  </tbody>\n",
       "</table>\n",
       "</div>"
      ],
      "text/plain": [
       "              S no            ID  IMDB Ratings   Runtime(in min)\n",
       "count  7903.000000  7.901000e+03    7903.000000      7903.000000\n",
       "mean   3952.000000  2.170532e+05       6.352853       106.215488\n",
       "std    2281.543922  2.454592e+05       1.091909        21.728310\n",
       "min       1.000000  5.000000e+00       0.000000        45.000000\n",
       "25%    1976.500000  1.087800e+04       5.800000        91.000000\n",
       "50%    3952.000000  7.567400e+04       6.400000       102.000000\n",
       "75%    5927.500000  4.095020e+05       7.000000       117.000000\n",
       "max    7903.000000  1.142127e+06       9.000000       400.000000"
      ]
     },
     "execution_count": 7,
     "metadata": {},
     "output_type": "execute_result"
    }
   ],
   "source": [
    "movies.describe()"
   ]
  },
  {
   "cell_type": "code",
   "execution_count": 8,
   "id": "81942263",
   "metadata": {},
   "outputs": [
    {
     "data": {
      "text/plain": [
       "S no                    0\n",
       "ID                      2\n",
       "Original_Language       0\n",
       "original_title          0\n",
       "Release_Date            0\n",
       "IMDB Ratings            0\n",
       "Vote_Count              1\n",
       "Genre                   0\n",
       "Overview                0\n",
       "Revenue(in $)           1\n",
       "Runtime(in min)         0\n",
       "Tagline              1291\n",
       "dtype: int64"
      ]
     },
     "execution_count": 8,
     "metadata": {},
     "output_type": "execute_result"
    }
   ],
   "source": [
    "movies.isnull().sum()"
   ]
  },
  {
   "cell_type": "code",
   "execution_count": 9,
   "id": "adee1cf9",
   "metadata": {},
   "outputs": [],
   "source": [
    "movies.dropna(subset=['ID'],inplace=True)"
   ]
  },
  {
   "cell_type": "code",
   "execution_count": 10,
   "id": "6ebc3045",
   "metadata": {},
   "outputs": [
    {
     "data": {
      "text/plain": [
       "S no                    0\n",
       "ID                      0\n",
       "Original_Language       0\n",
       "original_title          0\n",
       "Release_Date            0\n",
       "IMDB Ratings            0\n",
       "Vote_Count              1\n",
       "Genre                   0\n",
       "Overview                0\n",
       "Revenue(in $)           0\n",
       "Runtime(in min)         0\n",
       "Tagline              1291\n",
       "dtype: int64"
      ]
     },
     "execution_count": 10,
     "metadata": {},
     "output_type": "execute_result"
    }
   ],
   "source": [
    "movies.isnull().sum()"
   ]
  },
  {
   "cell_type": "code",
   "execution_count": 29,
   "id": "e0aae6b3",
   "metadata": {},
   "outputs": [],
   "source": [
    "movies=movies[['ID','original_title','Genre','Overview']]"
   ]
  },
  {
   "cell_type": "code",
   "execution_count": 30,
   "id": "3cd57c42",
   "metadata": {},
   "outputs": [
    {
     "data": {
      "text/html": [
       "<div>\n",
       "<style scoped>\n",
       "    .dataframe tbody tr th:only-of-type {\n",
       "        vertical-align: middle;\n",
       "    }\n",
       "\n",
       "    .dataframe tbody tr th {\n",
       "        vertical-align: top;\n",
       "    }\n",
       "\n",
       "    .dataframe thead th {\n",
       "        text-align: right;\n",
       "    }\n",
       "</style>\n",
       "<table border=\"1\" class=\"dataframe\">\n",
       "  <thead>\n",
       "    <tr style=\"text-align: right;\">\n",
       "      <th></th>\n",
       "      <th>ID</th>\n",
       "      <th>original_title</th>\n",
       "      <th>Genre</th>\n",
       "      <th>Overview</th>\n",
       "    </tr>\n",
       "  </thead>\n",
       "  <tbody>\n",
       "    <tr>\n",
       "      <th>0</th>\n",
       "      <td>580489.0</td>\n",
       "      <td>venom: let there be carnage</td>\n",
       "      <td>['Science Fiction', 'Action', 'Adventure']</td>\n",
       "      <td>After finding a host body in investigative rep...</td>\n",
       "    </tr>\n",
       "    <tr>\n",
       "      <th>1</th>\n",
       "      <td>524434.0</td>\n",
       "      <td>eternals</td>\n",
       "      <td>['Action', 'Adventure', 'Science Fiction', 'Fa...</td>\n",
       "      <td>The Eternals are a team of ancient aliens who ...</td>\n",
       "    </tr>\n",
       "    <tr>\n",
       "      <th>2</th>\n",
       "      <td>438631.0</td>\n",
       "      <td>dune</td>\n",
       "      <td>['Action', 'Adventure', 'Science Fiction']</td>\n",
       "      <td>Paul Atreides, a brilliant and gifted young ma...</td>\n",
       "    </tr>\n",
       "    <tr>\n",
       "      <th>3</th>\n",
       "      <td>796499.0</td>\n",
       "      <td>army of thieves</td>\n",
       "      <td>['Action', 'Crime', 'Thriller']</td>\n",
       "      <td>A mysterious woman recruits bank teller Ludwig...</td>\n",
       "    </tr>\n",
       "    <tr>\n",
       "      <th>4</th>\n",
       "      <td>550988.0</td>\n",
       "      <td>free guy</td>\n",
       "      <td>['Comedy', 'Action', 'Adventure', 'Science Fic...</td>\n",
       "      <td>A bank teller called Guy realizes he is a back...</td>\n",
       "    </tr>\n",
       "  </tbody>\n",
       "</table>\n",
       "</div>"
      ],
      "text/plain": [
       "         ID               original_title  \\\n",
       "0  580489.0  venom: let there be carnage   \n",
       "1  524434.0                     eternals   \n",
       "2  438631.0                         dune   \n",
       "3  796499.0              army of thieves   \n",
       "4  550988.0                     free guy   \n",
       "\n",
       "                                               Genre  \\\n",
       "0         ['Science Fiction', 'Action', 'Adventure']   \n",
       "1  ['Action', 'Adventure', 'Science Fiction', 'Fa...   \n",
       "2         ['Action', 'Adventure', 'Science Fiction']   \n",
       "3                    ['Action', 'Crime', 'Thriller']   \n",
       "4  ['Comedy', 'Action', 'Adventure', 'Science Fic...   \n",
       "\n",
       "                                            Overview  \n",
       "0  After finding a host body in investigative rep...  \n",
       "1  The Eternals are a team of ancient aliens who ...  \n",
       "2  Paul Atreides, a brilliant and gifted young ma...  \n",
       "3  A mysterious woman recruits bank teller Ludwig...  \n",
       "4  A bank teller called Guy realizes he is a back...  "
      ]
     },
     "execution_count": 30,
     "metadata": {},
     "output_type": "execute_result"
    }
   ],
   "source": [
    "movies.head()"
   ]
  },
  {
   "cell_type": "code",
   "execution_count": 31,
   "id": "6706e8c0",
   "metadata": {},
   "outputs": [
    {
     "data": {
      "text/plain": [
       "0"
      ]
     },
     "execution_count": 31,
     "metadata": {},
     "output_type": "execute_result"
    }
   ],
   "source": [
    "movies.duplicated().sum()"
   ]
  },
  {
   "cell_type": "code",
   "execution_count": 32,
   "id": "553a0a56",
   "metadata": {},
   "outputs": [
    {
     "name": "stderr",
     "output_type": "stream",
     "text": [
      "C:\\Users\\Shruti Pathak\\AppData\\Local\\Temp\\ipykernel_10244\\1441796974.py:1: SettingWithCopyWarning: \n",
      "A value is trying to be set on a copy of a slice from a DataFrame\n",
      "\n",
      "See the caveats in the documentation: https://pandas.pydata.org/pandas-docs/stable/user_guide/indexing.html#returning-a-view-versus-a-copy\n",
      "  movies.drop_duplicates(inplace=True)\n"
     ]
    }
   ],
   "source": [
    "movies.drop_duplicates(inplace=True)"
   ]
  },
  {
   "cell_type": "code",
   "execution_count": 33,
   "id": "c9debba0",
   "metadata": {},
   "outputs": [
    {
     "data": {
      "text/plain": [
       "0"
      ]
     },
     "execution_count": 33,
     "metadata": {},
     "output_type": "execute_result"
    }
   ],
   "source": [
    "movies.duplicated().sum()"
   ]
  },
  {
   "cell_type": "code",
   "execution_count": 35,
   "id": "9586c748",
   "metadata": {},
   "outputs": [
    {
     "name": "stderr",
     "output_type": "stream",
     "text": [
      "C:\\Users\\Shruti Pathak\\AppData\\Local\\Temp\\ipykernel_10244\\3225771620.py:1: SettingWithCopyWarning: \n",
      "A value is trying to be set on a copy of a slice from a DataFrame.\n",
      "Try using .loc[row_indexer,col_indexer] = value instead\n",
      "\n",
      "See the caveats in the documentation: https://pandas.pydata.org/pandas-docs/stable/user_guide/indexing.html#returning-a-view-versus-a-copy\n",
      "  movies['tags'] =movies['Overview']+movies['Genre']\n"
     ]
    }
   ],
   "source": [
    "movies['tags'] =movies['Overview']+movies['Genre']"
   ]
  },
  {
   "cell_type": "code",
   "execution_count": 36,
   "id": "95769611",
   "metadata": {},
   "outputs": [
    {
     "data": {
      "text/plain": [
       "<bound method NDFrame.head of              ID                            original_title  \\\n",
       "0      580489.0               venom: let there be carnage   \n",
       "1      524434.0                                  eternals   \n",
       "2      438631.0                                      dune   \n",
       "3      796499.0                           army of thieves   \n",
       "4      550988.0                                  free guy   \n",
       "...         ...                                       ...   \n",
       "7898  1083862.0               resident evil: death island   \n",
       "7899   347201.0                  boruto: naruto the movie   \n",
       "7900   503314.0                  dragon ball super: broly   \n",
       "7901   572154.0  rascal does not dream of a dreaming girl   \n",
       "7902   829557.0                        365 days: this day   \n",
       "\n",
       "                                                  Genre  \\\n",
       "0            ['Science Fiction', 'Action', 'Adventure']   \n",
       "1     ['Action', 'Adventure', 'Science Fiction', 'Fa...   \n",
       "2            ['Action', 'Adventure', 'Science Fiction']   \n",
       "3                       ['Action', 'Crime', 'Thriller']   \n",
       "4     ['Comedy', 'Action', 'Adventure', 'Science Fic...   \n",
       "...                                                 ...   \n",
       "7898                  ['animation', 'action', 'horror']   \n",
       "7899     ['comedy', 'action', 'animation', 'adventure']   \n",
       "7900                  ['action', 'sci-fi', 'animation']   \n",
       "7901  ['comedy', 'drama', 'animation', 'romance', 'f...   \n",
       "7902                   ['Erotic', 'Thriller', 'Action']   \n",
       "\n",
       "                                               Overview  \\\n",
       "0     After finding a host body in investigative rep...   \n",
       "1     The Eternals are a team of ancient aliens who ...   \n",
       "2     Paul Atreides, a brilliant and gifted young ma...   \n",
       "3     A mysterious woman recruits bank teller Ludwig...   \n",
       "4     A bank teller called Guy realizes he is a back...   \n",
       "...                                                 ...   \n",
       "7898  In San Francisco, Jill Valentine is dealing wi...   \n",
       "7899  The spirited Boruto Uzumaki, son of Seventh Ho...   \n",
       "7900  Earth is peaceful following the Tournament of ...   \n",
       "7901  In Fujisawa, Sakuta Azusagawa is in his second...   \n",
       "7902  Laura and Massimo attempt to piece their lives...   \n",
       "\n",
       "                                                   tags  \n",
       "0     After finding a host body in investigative rep...  \n",
       "1     The Eternals are a team of ancient aliens who ...  \n",
       "2     Paul Atreides, a brilliant and gifted young ma...  \n",
       "3     A mysterious woman recruits bank teller Ludwig...  \n",
       "4     A bank teller called Guy realizes he is a back...  \n",
       "...                                                 ...  \n",
       "7898  In San Francisco, Jill Valentine is dealing wi...  \n",
       "7899  The spirited Boruto Uzumaki, son of Seventh Ho...  \n",
       "7900  Earth is peaceful following the Tournament of ...  \n",
       "7901  In Fujisawa, Sakuta Azusagawa is in his second...  \n",
       "7902  Laura and Massimo attempt to piece their lives...  \n",
       "\n",
       "[7900 rows x 5 columns]>"
      ]
     },
     "execution_count": 36,
     "metadata": {},
     "output_type": "execute_result"
    }
   ],
   "source": [
    "movies.head"
   ]
  },
  {
   "cell_type": "code",
   "execution_count": 37,
   "id": "0e8b8706",
   "metadata": {},
   "outputs": [
    {
     "data": {
      "text/html": [
       "<div>\n",
       "<style scoped>\n",
       "    .dataframe tbody tr th:only-of-type {\n",
       "        vertical-align: middle;\n",
       "    }\n",
       "\n",
       "    .dataframe tbody tr th {\n",
       "        vertical-align: top;\n",
       "    }\n",
       "\n",
       "    .dataframe thead th {\n",
       "        text-align: right;\n",
       "    }\n",
       "</style>\n",
       "<table border=\"1\" class=\"dataframe\">\n",
       "  <thead>\n",
       "    <tr style=\"text-align: right;\">\n",
       "      <th></th>\n",
       "      <th>ID</th>\n",
       "    </tr>\n",
       "  </thead>\n",
       "  <tbody>\n",
       "    <tr>\n",
       "      <th>count</th>\n",
       "      <td>7.900000e+03</td>\n",
       "    </tr>\n",
       "    <tr>\n",
       "      <th>mean</th>\n",
       "      <td>2.170274e+05</td>\n",
       "    </tr>\n",
       "    <tr>\n",
       "      <th>std</th>\n",
       "      <td>2.454640e+05</td>\n",
       "    </tr>\n",
       "    <tr>\n",
       "      <th>min</th>\n",
       "      <td>5.000000e+00</td>\n",
       "    </tr>\n",
       "    <tr>\n",
       "      <th>25%</th>\n",
       "      <td>1.087775e+04</td>\n",
       "    </tr>\n",
       "    <tr>\n",
       "      <th>50%</th>\n",
       "      <td>7.566500e+04</td>\n",
       "    </tr>\n",
       "    <tr>\n",
       "      <th>75%</th>\n",
       "      <td>4.093482e+05</td>\n",
       "    </tr>\n",
       "    <tr>\n",
       "      <th>max</th>\n",
       "      <td>1.142127e+06</td>\n",
       "    </tr>\n",
       "  </tbody>\n",
       "</table>\n",
       "</div>"
      ],
      "text/plain": [
       "                 ID\n",
       "count  7.900000e+03\n",
       "mean   2.170274e+05\n",
       "std    2.454640e+05\n",
       "min    5.000000e+00\n",
       "25%    1.087775e+04\n",
       "50%    7.566500e+04\n",
       "75%    4.093482e+05\n",
       "max    1.142127e+06"
      ]
     },
     "execution_count": 37,
     "metadata": {},
     "output_type": "execute_result"
    }
   ],
   "source": [
    "movies.describe()"
   ]
  },
  {
   "cell_type": "code",
   "execution_count": 38,
   "id": "d271200b",
   "metadata": {},
   "outputs": [
    {
     "name": "stdout",
     "output_type": "stream",
     "text": [
      "<class 'pandas.core.frame.DataFrame'>\n",
      "Int64Index: 7900 entries, 0 to 7902\n",
      "Data columns (total 5 columns):\n",
      " #   Column          Non-Null Count  Dtype  \n",
      "---  ------          --------------  -----  \n",
      " 0   ID              7900 non-null   float64\n",
      " 1   original_title  7900 non-null   object \n",
      " 2   Genre           7900 non-null   object \n",
      " 3   Overview        7900 non-null   object \n",
      " 4   tags            7900 non-null   object \n",
      "dtypes: float64(1), object(4)\n",
      "memory usage: 370.3+ KB\n"
     ]
    }
   ],
   "source": [
    "movies.info()"
   ]
  },
  {
   "cell_type": "code",
   "execution_count": 39,
   "id": "c984f271",
   "metadata": {},
   "outputs": [
    {
     "data": {
      "text/html": [
       "<div>\n",
       "<style scoped>\n",
       "    .dataframe tbody tr th:only-of-type {\n",
       "        vertical-align: middle;\n",
       "    }\n",
       "\n",
       "    .dataframe tbody tr th {\n",
       "        vertical-align: top;\n",
       "    }\n",
       "\n",
       "    .dataframe thead th {\n",
       "        text-align: right;\n",
       "    }\n",
       "</style>\n",
       "<table border=\"1\" class=\"dataframe\">\n",
       "  <thead>\n",
       "    <tr style=\"text-align: right;\">\n",
       "      <th></th>\n",
       "      <th>ID</th>\n",
       "      <th>original_title</th>\n",
       "      <th>tags</th>\n",
       "    </tr>\n",
       "  </thead>\n",
       "  <tbody>\n",
       "    <tr>\n",
       "      <th>0</th>\n",
       "      <td>580489.0</td>\n",
       "      <td>venom: let there be carnage</td>\n",
       "      <td>After finding a host body in investigative rep...</td>\n",
       "    </tr>\n",
       "    <tr>\n",
       "      <th>1</th>\n",
       "      <td>524434.0</td>\n",
       "      <td>eternals</td>\n",
       "      <td>The Eternals are a team of ancient aliens who ...</td>\n",
       "    </tr>\n",
       "    <tr>\n",
       "      <th>2</th>\n",
       "      <td>438631.0</td>\n",
       "      <td>dune</td>\n",
       "      <td>Paul Atreides, a brilliant and gifted young ma...</td>\n",
       "    </tr>\n",
       "    <tr>\n",
       "      <th>3</th>\n",
       "      <td>796499.0</td>\n",
       "      <td>army of thieves</td>\n",
       "      <td>A mysterious woman recruits bank teller Ludwig...</td>\n",
       "    </tr>\n",
       "    <tr>\n",
       "      <th>4</th>\n",
       "      <td>550988.0</td>\n",
       "      <td>free guy</td>\n",
       "      <td>A bank teller called Guy realizes he is a back...</td>\n",
       "    </tr>\n",
       "    <tr>\n",
       "      <th>...</th>\n",
       "      <td>...</td>\n",
       "      <td>...</td>\n",
       "      <td>...</td>\n",
       "    </tr>\n",
       "    <tr>\n",
       "      <th>7898</th>\n",
       "      <td>1083862.0</td>\n",
       "      <td>resident evil: death island</td>\n",
       "      <td>In San Francisco, Jill Valentine is dealing wi...</td>\n",
       "    </tr>\n",
       "    <tr>\n",
       "      <th>7899</th>\n",
       "      <td>347201.0</td>\n",
       "      <td>boruto: naruto the movie</td>\n",
       "      <td>The spirited Boruto Uzumaki, son of Seventh Ho...</td>\n",
       "    </tr>\n",
       "    <tr>\n",
       "      <th>7900</th>\n",
       "      <td>503314.0</td>\n",
       "      <td>dragon ball super: broly</td>\n",
       "      <td>Earth is peaceful following the Tournament of ...</td>\n",
       "    </tr>\n",
       "    <tr>\n",
       "      <th>7901</th>\n",
       "      <td>572154.0</td>\n",
       "      <td>rascal does not dream of a dreaming girl</td>\n",
       "      <td>In Fujisawa, Sakuta Azusagawa is in his second...</td>\n",
       "    </tr>\n",
       "    <tr>\n",
       "      <th>7902</th>\n",
       "      <td>829557.0</td>\n",
       "      <td>365 days: this day</td>\n",
       "      <td>Laura and Massimo attempt to piece their lives...</td>\n",
       "    </tr>\n",
       "  </tbody>\n",
       "</table>\n",
       "<p>7900 rows × 3 columns</p>\n",
       "</div>"
      ],
      "text/plain": [
       "             ID                            original_title  \\\n",
       "0      580489.0               venom: let there be carnage   \n",
       "1      524434.0                                  eternals   \n",
       "2      438631.0                                      dune   \n",
       "3      796499.0                           army of thieves   \n",
       "4      550988.0                                  free guy   \n",
       "...         ...                                       ...   \n",
       "7898  1083862.0               resident evil: death island   \n",
       "7899   347201.0                  boruto: naruto the movie   \n",
       "7900   503314.0                  dragon ball super: broly   \n",
       "7901   572154.0  rascal does not dream of a dreaming girl   \n",
       "7902   829557.0                        365 days: this day   \n",
       "\n",
       "                                                   tags  \n",
       "0     After finding a host body in investigative rep...  \n",
       "1     The Eternals are a team of ancient aliens who ...  \n",
       "2     Paul Atreides, a brilliant and gifted young ma...  \n",
       "3     A mysterious woman recruits bank teller Ludwig...  \n",
       "4     A bank teller called Guy realizes he is a back...  \n",
       "...                                                 ...  \n",
       "7898  In San Francisco, Jill Valentine is dealing wi...  \n",
       "7899  The spirited Boruto Uzumaki, son of Seventh Ho...  \n",
       "7900  Earth is peaceful following the Tournament of ...  \n",
       "7901  In Fujisawa, Sakuta Azusagawa is in his second...  \n",
       "7902  Laura and Massimo attempt to piece their lives...  \n",
       "\n",
       "[7900 rows x 3 columns]"
      ]
     },
     "execution_count": 39,
     "metadata": {},
     "output_type": "execute_result"
    }
   ],
   "source": [
    "new_data  = movies.drop(columns=['Overview', 'Genre',])\n",
    "new_data"
   ]
  },
  {
   "cell_type": "code",
   "execution_count": 40,
   "id": "ca6b2c1b",
   "metadata": {},
   "outputs": [],
   "source": [
    "from sklearn.feature_extraction.text import CountVectorizer"
   ]
  },
  {
   "cell_type": "code",
   "execution_count": 41,
   "id": "d4cc0383",
   "metadata": {},
   "outputs": [
    {
     "data": {
      "text/html": [
       "<style>#sk-container-id-1 {color: black;}#sk-container-id-1 pre{padding: 0;}#sk-container-id-1 div.sk-toggleable {background-color: white;}#sk-container-id-1 label.sk-toggleable__label {cursor: pointer;display: block;width: 100%;margin-bottom: 0;padding: 0.3em;box-sizing: border-box;text-align: center;}#sk-container-id-1 label.sk-toggleable__label-arrow:before {content: \"▸\";float: left;margin-right: 0.25em;color: #696969;}#sk-container-id-1 label.sk-toggleable__label-arrow:hover:before {color: black;}#sk-container-id-1 div.sk-estimator:hover label.sk-toggleable__label-arrow:before {color: black;}#sk-container-id-1 div.sk-toggleable__content {max-height: 0;max-width: 0;overflow: hidden;text-align: left;background-color: #f0f8ff;}#sk-container-id-1 div.sk-toggleable__content pre {margin: 0.2em;color: black;border-radius: 0.25em;background-color: #f0f8ff;}#sk-container-id-1 input.sk-toggleable__control:checked~div.sk-toggleable__content {max-height: 200px;max-width: 100%;overflow: auto;}#sk-container-id-1 input.sk-toggleable__control:checked~label.sk-toggleable__label-arrow:before {content: \"▾\";}#sk-container-id-1 div.sk-estimator input.sk-toggleable__control:checked~label.sk-toggleable__label {background-color: #d4ebff;}#sk-container-id-1 div.sk-label input.sk-toggleable__control:checked~label.sk-toggleable__label {background-color: #d4ebff;}#sk-container-id-1 input.sk-hidden--visually {border: 0;clip: rect(1px 1px 1px 1px);clip: rect(1px, 1px, 1px, 1px);height: 1px;margin: -1px;overflow: hidden;padding: 0;position: absolute;width: 1px;}#sk-container-id-1 div.sk-estimator {font-family: monospace;background-color: #f0f8ff;border: 1px dotted black;border-radius: 0.25em;box-sizing: border-box;margin-bottom: 0.5em;}#sk-container-id-1 div.sk-estimator:hover {background-color: #d4ebff;}#sk-container-id-1 div.sk-parallel-item::after {content: \"\";width: 100%;border-bottom: 1px solid gray;flex-grow: 1;}#sk-container-id-1 div.sk-label:hover label.sk-toggleable__label {background-color: #d4ebff;}#sk-container-id-1 div.sk-serial::before {content: \"\";position: absolute;border-left: 1px solid gray;box-sizing: border-box;top: 0;bottom: 0;left: 50%;z-index: 0;}#sk-container-id-1 div.sk-serial {display: flex;flex-direction: column;align-items: center;background-color: white;padding-right: 0.2em;padding-left: 0.2em;position: relative;}#sk-container-id-1 div.sk-item {position: relative;z-index: 1;}#sk-container-id-1 div.sk-parallel {display: flex;align-items: stretch;justify-content: center;background-color: white;position: relative;}#sk-container-id-1 div.sk-item::before, #sk-container-id-1 div.sk-parallel-item::before {content: \"\";position: absolute;border-left: 1px solid gray;box-sizing: border-box;top: 0;bottom: 0;left: 50%;z-index: -1;}#sk-container-id-1 div.sk-parallel-item {display: flex;flex-direction: column;z-index: 1;position: relative;background-color: white;}#sk-container-id-1 div.sk-parallel-item:first-child::after {align-self: flex-end;width: 50%;}#sk-container-id-1 div.sk-parallel-item:last-child::after {align-self: flex-start;width: 50%;}#sk-container-id-1 div.sk-parallel-item:only-child::after {width: 0;}#sk-container-id-1 div.sk-dashed-wrapped {border: 1px dashed gray;margin: 0 0.4em 0.5em 0.4em;box-sizing: border-box;padding-bottom: 0.4em;background-color: white;}#sk-container-id-1 div.sk-label label {font-family: monospace;font-weight: bold;display: inline-block;line-height: 1.2em;}#sk-container-id-1 div.sk-label-container {text-align: center;}#sk-container-id-1 div.sk-container {/* jupyter's `normalize.less` sets `[hidden] { display: none; }` but bootstrap.min.css set `[hidden] { display: none !important; }` so we also need the `!important` here to be able to override the default hidden behavior on the sphinx rendered scikit-learn.org. See: https://github.com/scikit-learn/scikit-learn/issues/21755 */display: inline-block !important;position: relative;}#sk-container-id-1 div.sk-text-repr-fallback {display: none;}</style><div id=\"sk-container-id-1\" class=\"sk-top-container\"><div class=\"sk-text-repr-fallback\"><pre>CountVectorizer(max_features=10000, stop_words=&#x27;english&#x27;)</pre><b>In a Jupyter environment, please rerun this cell to show the HTML representation or trust the notebook. <br />On GitHub, the HTML representation is unable to render, please try loading this page with nbviewer.org.</b></div><div class=\"sk-container\" hidden><div class=\"sk-item\"><div class=\"sk-estimator sk-toggleable\"><input class=\"sk-toggleable__control sk-hidden--visually\" id=\"sk-estimator-id-1\" type=\"checkbox\" checked><label for=\"sk-estimator-id-1\" class=\"sk-toggleable__label sk-toggleable__label-arrow\">CountVectorizer</label><div class=\"sk-toggleable__content\"><pre>CountVectorizer(max_features=10000, stop_words=&#x27;english&#x27;)</pre></div></div></div></div></div>"
      ],
      "text/plain": [
       "CountVectorizer(max_features=10000, stop_words='english')"
      ]
     },
     "execution_count": 41,
     "metadata": {},
     "output_type": "execute_result"
    }
   ],
   "source": [
    "cv=CountVectorizer(max_features=10000, stop_words='english')\n",
    "cv"
   ]
  },
  {
   "cell_type": "code",
   "execution_count": 42,
   "id": "e0f6c3f1",
   "metadata": {},
   "outputs": [
    {
     "data": {
      "text/plain": [
       "(7900, 10000)"
      ]
     },
     "execution_count": 42,
     "metadata": {},
     "output_type": "execute_result"
    }
   ],
   "source": [
    "CountVectorizer(max_features=10000, stop_words='english')\n",
    "vector=cv.fit_transform(new_data['tags'].values.astype('U')).toarray()\n",
    "vector.shape"
   ]
  },
  {
   "cell_type": "code",
   "execution_count": 52,
   "id": "55767c5d",
   "metadata": {},
   "outputs": [
    {
     "data": {
      "text/plain": [
       "(7900,)"
      ]
     },
     "execution_count": 52,
     "metadata": {},
     "output_type": "execute_result"
    }
   ],
   "source": [
    "from sklearn.metrics.pairwise import cosine_similarity\n",
    "similarity = cosine_similarity(vector)\n",
    "similarity[0].shape\n"
   ]
  },
  {
   "cell_type": "code",
   "execution_count": 54,
   "id": "9c58bf34",
   "metadata": {},
   "outputs": [
    {
     "data": {
      "text/plain": [
       "[(6, 0.3919309008348103),\n",
       " (97, 0.3038948705590346),\n",
       " (750, 0.3003757045930553),\n",
       " (1517, 0.3003757045930553),\n",
       " (1450, 0.2995723447576391)]"
      ]
     },
     "execution_count": 54,
     "metadata": {},
     "output_type": "execute_result"
    }
   ],
   "source": [
    "sorted(list(enumerate(similarity[0])),reverse=True,key=lambda x:x[1])[1:6]"
   ]
  },
  {
   "cell_type": "code",
   "execution_count": 65,
   "id": "0a3bfa12",
   "metadata": {},
   "outputs": [
    {
     "data": {
      "text/html": [
       "<div>\n",
       "<style scoped>\n",
       "    .dataframe tbody tr th:only-of-type {\n",
       "        vertical-align: middle;\n",
       "    }\n",
       "\n",
       "    .dataframe tbody tr th {\n",
       "        vertical-align: top;\n",
       "    }\n",
       "\n",
       "    .dataframe thead th {\n",
       "        text-align: right;\n",
       "    }\n",
       "</style>\n",
       "<table border=\"1\" class=\"dataframe\">\n",
       "  <thead>\n",
       "    <tr style=\"text-align: right;\">\n",
       "      <th></th>\n",
       "      <th>ID</th>\n",
       "      <th>original_title</th>\n",
       "      <th>tags</th>\n",
       "    </tr>\n",
       "  </thead>\n",
       "  <tbody>\n",
       "    <tr>\n",
       "      <th>0</th>\n",
       "      <td>580489.0</td>\n",
       "      <td>venom: let there be carnage</td>\n",
       "      <td>After finding a host body in investigative rep...</td>\n",
       "    </tr>\n",
       "    <tr>\n",
       "      <th>1</th>\n",
       "      <td>524434.0</td>\n",
       "      <td>eternals</td>\n",
       "      <td>The Eternals are a team of ancient aliens who ...</td>\n",
       "    </tr>\n",
       "  </tbody>\n",
       "</table>\n",
       "</div>"
      ],
      "text/plain": [
       "         ID               original_title  \\\n",
       "0  580489.0  venom: let there be carnage   \n",
       "1  524434.0                     eternals   \n",
       "\n",
       "                                                tags  \n",
       "0  After finding a host body in investigative rep...  \n",
       "1  The Eternals are a team of ancient aliens who ...  "
      ]
     },
     "execution_count": 65,
     "metadata": {},
     "output_type": "execute_result"
    }
   ],
   "source": [
    "new_data.head(2)"
   ]
  },
  {
   "cell_type": "code",
   "execution_count": 75,
   "id": "600fa311",
   "metadata": {},
   "outputs": [],
   "source": [
    "def recommend(movie):\n",
    "    movie_index = new_data[new_data['original_title'] == movie].index[0]\n",
    "    distances = similarity[movie_index]\n",
    "    movies_list = sorted(list(enumerate(distances)),reverse=True,key=lambda x:x[1])[1:6]\n",
    "    \n",
    "    for i in movies_list:\n",
    "        print(new_data.iloc[i[0]].original_title)"
   ]
  },
  {
   "cell_type": "code",
   "execution_count": 76,
   "id": "2e8df772",
   "metadata": {},
   "outputs": [
    {
     "name": "stdout",
     "output_type": "stream",
     "text": [
      "small soldiers\n",
      "predator\n",
      "journey 2: the mysterious island\n",
      "iron man 3\n",
      "emmanuelle in space 4: concealed fantasy\n"
     ]
    }
   ],
   "source": [
    "recommend('avatar')"
   ]
  },
  {
   "cell_type": "code",
   "execution_count": 77,
   "id": "50e8c9a0",
   "metadata": {},
   "outputs": [
    {
     "name": "stdout",
     "output_type": "stream",
     "text": [
      "iron man 3\n",
      "pixels\n",
      "ready player one\n",
      "small soldiers\n",
      "zoom\n"
     ]
    }
   ],
   "source": [
    "recommend('free guy')"
   ]
  },
  {
   "cell_type": "code",
   "execution_count": null,
   "id": "a8151e5e",
   "metadata": {},
   "outputs": [],
   "source": []
  }
 ],
 "metadata": {
  "kernelspec": {
   "display_name": "Python 3 (ipykernel)",
   "language": "python",
   "name": "python3"
  },
  "language_info": {
   "codemirror_mode": {
    "name": "ipython",
    "version": 3
   },
   "file_extension": ".py",
   "mimetype": "text/x-python",
   "name": "python",
   "nbconvert_exporter": "python",
   "pygments_lexer": "ipython3",
   "version": "3.11.4"
  }
 },
 "nbformat": 4,
 "nbformat_minor": 5
}
